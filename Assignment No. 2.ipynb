{
 "cells": [
  {
   "cell_type": "markdown",
   "id": "527661c3",
   "metadata": {},
   "source": [
    "1. What are the two values of the Boolean data type? How do you write them?\n",
    "-: True and False are two values of boolean data type.\n",
    "   False = 0 and True = 1"
   ]
  },
  {
   "cell_type": "markdown",
   "id": "850360b6",
   "metadata": {},
   "source": [
    "2. What are the three different types of Boolean operators?\n",
    "-: AND , OR , NOT  are three types of boolan operators."
   ]
  },
  {
   "cell_type": "markdown",
   "id": "2fb00604",
   "metadata": {},
   "source": [
    "3. Make a list of each Boolean operators truth tables (i.e. every possible combination of Boolean\n",
    "values for the operator and what it evaluate ).\n",
    "\n",
    "AND Operator\n",
    " A\t     B\t   A AND B\n",
    "TRUE\tTRUE\tTRUE\n",
    "TRUE\tFALSE\tFALSE\n",
    "FALSE\tTRUE\tFALSE\n",
    "FALSE\tFALSE\tFALSE\n",
    "\n",
    "OR Operator\n",
    " A\t     B\t   A OR B\n",
    "TRUE\tTRUE\tTRUE\n",
    "TRUE\tFALSE\tTRUE\t\n",
    "FALSE\tTRUE\tTRUE\n",
    "FALSE\tFALSE\tFALSE\n",
    "\n",
    "NOT Operator\n",
    " A\t    NOT A\n",
    "TRUE\tFALSE\n",
    "FALSE\tTRUE\n",
    "\n"
   ]
  },
  {
   "cell_type": "markdown",
   "id": "0e2c3e25",
   "metadata": {},
   "source": [
    "4. What are the values of the following expressions?\n",
    "\n",
    "(5 > 4) and (3 == 5) -: T and F :- False\n",
    "        \n",
    "NOT(5 > 4) -: False\n",
    "    \n",
    "(5 > 4) OR (3 == 5) -: T OR F :- True\n",
    "        \n",
    "not ((5 > 4) or (3 == 5)) -: not(T OR F) -: not(True) -: False\n",
    "            \n",
    "(True and True) and (True == False) -: True and False -: False\n",
    "\n",
    "(not False) or (not True) -: True or False -: True          "
   ]
  },
  {
   "cell_type": "markdown",
   "id": "406842b7",
   "metadata": {},
   "source": [
    "5. What are the six comparison operator?\n",
    "-: Comparison operater are used compare two values\n",
    "   == :- Equal\n",
    "   != :- Not equal\n",
    "   >  :- Greater than\n",
    "   <  :- Less than\n",
    "   >= :- Greater than or equal to\n",
    "   <= :- Less than or equal to "
   ]
  },
  {
   "cell_type": "markdown",
   "id": "6b622d0a",
   "metadata": {},
   "source": [
    "6. How do you tell the difference between the equal to and assignment operators?Describe a condition and when you would use one. \n",
    "-: The '=' is assignment operater used to assign the value on the right to the variable on left. The '==' operater checks whether the two given opreants are equal or not.\n",
    "    int a = 10;\n",
    "    if(a==b)"
   ]
  },
  {
   "cell_type": "code",
   "execution_count": 27,
   "id": "6d49d8f0",
   "metadata": {},
   "outputs": [
    {
     "name": "stdout",
     "output_type": "stream",
     "text": [
      "True\n"
     ]
    }
   ],
   "source": [
    "[Question.6]\n",
    "x = 10\n",
    "y = 10\n",
    "if (x==y):\n",
    "    print(\"True\")\n",
    "else:\n",
    "    print(\"False\")\n"
   ]
  },
  {
   "cell_type": "markdown",
   "id": "771f888c",
   "metadata": {},
   "source": [
    "7. Identify the three blocks in this code:\n",
    "print('bacon')\n",
    "print('ham')\n",
    "print('spam')\n"
   ]
  },
  {
   "cell_type": "markdown",
   "id": "ed106c39",
   "metadata": {},
   "source": [
    "8. Write code that prints Hello if 1 is stored in spam, prints Howdy if 2 is stored in spam, and prints Greetings! if anything else is stored in spam.\n",
    "\n",
    "Spam = 0\n",
    "if spam == 1:\n",
    "    print('Hello')\n",
    "elif spam == 2:\n",
    "    print('Howdy')\n",
    "else :\n",
    "    print('Greetings!')\n"
   ]
  },
  {
   "cell_type": "markdown",
   "id": "bdd58530",
   "metadata": {},
   "source": [
    "9. If your programme is stuck in an endless loop, what keys you’ll press?\n",
    "-: Press CTRL-C if you stuck in enless loop."
   ]
  },
  {
   "cell_type": "markdown",
   "id": "88901be8",
   "metadata": {},
   "source": [
    "10. How can you tell the difference between break and continue?\n",
    "-: The break statement will move the execution outside and just after a loop. The continue statement will move the       execution to the start of the loop."
   ]
  },
  {
   "cell_type": "markdown",
   "id": "f0671141",
   "metadata": {},
   "source": [
    "11. In a for loop, what is the difference between range(10), range(0, 10), and range(0, 10, 1)?\n",
    "-:They all do the same thing. The range(10) call ranges from 0 up to (but not including) 10, range(0, 10) explicitly tells the loop to start at 0, and range(0, 10, 1) explicitly tells the loop to increase the variable by 1 on each iteration."
   ]
  },
  {
   "cell_type": "code",
   "execution_count": 13,
   "id": "ea5065c0",
   "metadata": {},
   "outputs": [
    {
     "data": {
      "text/plain": [
       "range(0, 10)"
      ]
     },
     "execution_count": 13,
     "metadata": {},
     "output_type": "execute_result"
    }
   ],
   "source": [
    "range(10)\n",
    "range(0,10)\n",
    "range(0,10,1)\n"
   ]
  },
  {
   "cell_type": "markdown",
   "id": "1af975b8",
   "metadata": {},
   "source": [
    "12. Write a short program that prints the numbers 1 to 10 using a for loop. Then write an equivalent\n",
    "    program that prints the numbers 1 to 10 using a while loop."
   ]
  },
  {
   "cell_type": "code",
   "execution_count": 14,
   "id": "3986e793",
   "metadata": {},
   "outputs": [
    {
     "name": "stdout",
     "output_type": "stream",
     "text": [
      "1\n",
      "2\n",
      "3\n",
      "4\n",
      "5\n",
      "6\n",
      "7\n",
      "8\n",
      "9\n",
      "10\n"
     ]
    }
   ],
   "source": [
    "for i in range(1,11):\n",
    "    print(i)\n"
   ]
  },
  {
   "cell_type": "code",
   "execution_count": 16,
   "id": "e7659c84",
   "metadata": {},
   "outputs": [
    {
     "name": "stdout",
     "output_type": "stream",
     "text": [
      "1\n",
      "2\n",
      "3\n",
      "4\n",
      "5\n",
      "6\n",
      "7\n",
      "8\n",
      "9\n",
      "10\n"
     ]
    }
   ],
   "source": [
    "i = 1 \n",
    "while i<=10:\n",
    "    print(i)\n",
    "    i = i + 1"
   ]
  },
  {
   "cell_type": "markdown",
   "id": "a90a2015",
   "metadata": {},
   "source": [
    "13. If you had a function named bacon() inside a module named spam, how would you call it after\n",
    "    importing spam?\n",
    "-: This function can be called with spam.bacon()    "
   ]
  }
 ],
 "metadata": {
  "kernelspec": {
   "display_name": "Python 3 (ipykernel)",
   "language": "python",
   "name": "python3"
  },
  "language_info": {
   "codemirror_mode": {
    "name": "ipython",
    "version": 3
   },
   "file_extension": ".py",
   "mimetype": "text/x-python",
   "name": "python",
   "nbconvert_exporter": "python",
   "pygments_lexer": "ipython3",
   "version": "3.9.7"
  }
 },
 "nbformat": 4,
 "nbformat_minor": 5
}
